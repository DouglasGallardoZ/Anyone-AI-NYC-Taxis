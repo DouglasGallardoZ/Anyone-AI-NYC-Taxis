{
 "cells": [
  {
   "cell_type": "markdown",
   "id": "099975ad",
   "metadata": {},
   "source": [
    "This notebook will be dedicated to training and testing several ML models"
   ]
  },
  {
   "cell_type": "code",
   "execution_count": 1,
   "id": "67476c70",
   "metadata": {},
   "outputs": [],
   "source": [
    "from src import data_utils, preprocessing"
   ]
  },
  {
   "cell_type": "code",
   "execution_count": 2,
   "id": "0a8d3b5e",
   "metadata": {},
   "outputs": [],
   "source": [
    "# first we get our cleaned data set\n",
    "df_og = data_utils.clean_trip_data('yellow_tripdata_2022-05.parquet')"
   ]
  },
  {
   "cell_type": "code",
   "execution_count": 3,
   "id": "3e1d2e74",
   "metadata": {},
   "outputs": [
    {
     "data": {
      "text/html": [
       "<div>\n",
       "<style scoped>\n",
       "    .dataframe tbody tr th:only-of-type {\n",
       "        vertical-align: middle;\n",
       "    }\n",
       "\n",
       "    .dataframe tbody tr th {\n",
       "        vertical-align: top;\n",
       "    }\n",
       "\n",
       "    .dataframe thead th {\n",
       "        text-align: right;\n",
       "    }\n",
       "</style>\n",
       "<table border=\"1\" class=\"dataframe\">\n",
       "  <thead>\n",
       "    <tr style=\"text-align: right;\">\n",
       "      <th></th>\n",
       "      <th>0</th>\n",
       "      <th>1</th>\n",
       "      <th>2</th>\n",
       "    </tr>\n",
       "  </thead>\n",
       "  <tbody>\n",
       "    <tr>\n",
       "      <th>PULocationID</th>\n",
       "      <td>246</td>\n",
       "      <td>238</td>\n",
       "      <td>163</td>\n",
       "    </tr>\n",
       "    <tr>\n",
       "      <th>DOLocationID</th>\n",
       "      <td>151</td>\n",
       "      <td>74</td>\n",
       "      <td>260</td>\n",
       "    </tr>\n",
       "    <tr>\n",
       "      <th>fare_amount</th>\n",
       "      <td>17.0</td>\n",
       "      <td>11.0</td>\n",
       "      <td>15.5</td>\n",
       "    </tr>\n",
       "    <tr>\n",
       "      <th>improvement_surcharge</th>\n",
       "      <td>0.3</td>\n",
       "      <td>0.3</td>\n",
       "      <td>0.3</td>\n",
       "    </tr>\n",
       "    <tr>\n",
       "      <th>congestion_surcharge</th>\n",
       "      <td>2.5</td>\n",
       "      <td>2.5</td>\n",
       "      <td>2.5</td>\n",
       "    </tr>\n",
       "    <tr>\n",
       "      <th>airport_fee</th>\n",
       "      <td>0.0</td>\n",
       "      <td>0.0</td>\n",
       "      <td>0.0</td>\n",
       "    </tr>\n",
       "    <tr>\n",
       "      <th>travel_time</th>\n",
       "      <td>1122.0</td>\n",
       "      <td>829.0</td>\n",
       "      <td>922.0</td>\n",
       "    </tr>\n",
       "    <tr>\n",
       "      <th>time_of_day</th>\n",
       "      <td>night</td>\n",
       "      <td>night</td>\n",
       "      <td>night</td>\n",
       "    </tr>\n",
       "    <tr>\n",
       "      <th>day</th>\n",
       "      <td>1</td>\n",
       "      <td>1</td>\n",
       "      <td>1</td>\n",
       "    </tr>\n",
       "    <tr>\n",
       "      <th>month</th>\n",
       "      <td>5</td>\n",
       "      <td>5</td>\n",
       "      <td>5</td>\n",
       "    </tr>\n",
       "    <tr>\n",
       "      <th>is_weekend</th>\n",
       "      <td>1</td>\n",
       "      <td>1</td>\n",
       "      <td>1</td>\n",
       "    </tr>\n",
       "    <tr>\n",
       "      <th>distance_between_zones</th>\n",
       "      <td>11.842695</td>\n",
       "      <td>6.505505</td>\n",
       "      <td>13.091559</td>\n",
       "    </tr>\n",
       "  </tbody>\n",
       "</table>\n",
       "</div>"
      ],
      "text/plain": [
       "                                0         1          2\n",
       "PULocationID                  246       238        163\n",
       "DOLocationID                  151        74        260\n",
       "fare_amount                  17.0      11.0       15.5\n",
       "improvement_surcharge         0.3       0.3        0.3\n",
       "congestion_surcharge          2.5       2.5        2.5\n",
       "airport_fee                   0.0       0.0        0.0\n",
       "travel_time                1122.0     829.0      922.0\n",
       "time_of_day                 night     night      night\n",
       "day                             1         1          1\n",
       "month                           5         5          5\n",
       "is_weekend                      1         1          1\n",
       "distance_between_zones  11.842695  6.505505  13.091559"
      ]
     },
     "execution_count": 3,
     "metadata": {},
     "output_type": "execute_result"
    }
   ],
   "source": [
    "df_og.head(3).T"
   ]
  },
  {
   "cell_type": "code",
   "execution_count": 4,
   "id": "7d8930a9",
   "metadata": {},
   "outputs": [],
   "source": [
    "# now we get our X, and ys\n",
    "X, y_travel_time, y_fare_amount = data_utils.get_feature_target(df_og)"
   ]
  },
  {
   "cell_type": "code",
   "execution_count": 5,
   "id": "e2ed923e",
   "metadata": {},
   "outputs": [],
   "source": [
    "# and we then get our training and testing sets\n",
    "# we are going to get two sets of y labels, one for travel_time and another for fare_amount\n",
    "X_train, X_test, y_train_travel_time, y_test_travel_time, y_train_fare_amount, y_test_fare_amount = data_utils.get_train_test_sets(X, y_travel_time, y_fare_amount)"
   ]
  },
  {
   "cell_type": "code",
   "execution_count": 6,
   "id": "535f6c59",
   "metadata": {},
   "outputs": [],
   "source": [
    "# we can further split the training set into training and validation\n",
    "X_train, X_val, y_train_travel_time, y_val_travel_time, y_train_fare_amount, y_val_fare_amount = data_utils.get_train_test_sets(X_train, y_train_travel_time, y_train_fare_amount)"
   ]
  },
  {
   "cell_type": "code",
   "execution_count": 7,
   "id": "f49da169",
   "metadata": {},
   "outputs": [
    {
     "name": "stdout",
     "output_type": "stream",
     "text": [
      "Input train data shape:  (2160964, 10)\n",
      "Input val data shape:  (540242, 10)\n",
      "Input test data shape:  (675302, 10) \n",
      "\n"
     ]
    }
   ],
   "source": [
    "# now using the training, validation, and testing sets we can preprocess our data\n",
    "X_train, X_val, X_test = preprocessing.preprocess_data(X_train, X_val, X_test)"
   ]
  }
 ],
 "metadata": {
  "kernelspec": {
   "display_name": "Python 3",
   "language": "python",
   "name": "python3"
  },
  "language_info": {
   "codemirror_mode": {
    "name": "ipython",
    "version": 3
   },
   "file_extension": ".py",
   "mimetype": "text/x-python",
   "name": "python",
   "nbconvert_exporter": "python",
   "pygments_lexer": "ipython3",
   "version": "3.12.5"
  }
 },
 "nbformat": 4,
 "nbformat_minor": 5
}
