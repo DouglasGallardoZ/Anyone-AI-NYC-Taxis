{
 "cells": [
  {
   "cell_type": "markdown",
   "id": "b432ec6a",
   "metadata": {},
   "source": [
    "**This notebook is dedicated to show the training process for the Linear Regression Model**"
   ]
  },
  {
   "cell_type": "code",
   "execution_count": null,
   "id": "b9d0fde3",
   "metadata": {},
   "outputs": [],
   "source": [
    "from src import data_utils, preprocessing\n",
    "import matplotlib.pyplot as plt\n",
    "import numpy as np"
   ]
  },
  {
   "cell_type": "markdown",
   "id": "3458df29",
   "metadata": {},
   "source": [
    "Only run the cell below by removing the # symbol if you haven't downloaded the zones data"
   ]
  },
  {
   "cell_type": "code",
   "execution_count": null,
   "id": "628da9db",
   "metadata": {},
   "outputs": [],
   "source": [
    "# run this cell to download the required data files containing the trip and zones information\n",
    "\n",
    "# data_utils.download_zones_data('https://d37ci6vzurychx.cloudfront.net/misc/taxi_zones.zip')"
   ]
  },
  {
   "cell_type": "code",
   "execution_count": null,
   "id": "ad25a1e2",
   "metadata": {},
   "outputs": [],
   "source": [
    "# first we get our cleaned data set\n",
    "df_og = data_utils.clean_trip_data('yellow_tripdata_2022-05.parquet')"
   ]
  },
  {
   "cell_type": "code",
   "execution_count": null,
   "id": "d64c3918",
   "metadata": {},
   "outputs": [],
   "source": [
    "# now we get our X, and ys\n",
    "X, y_travel_time, y_fare_amount = data_utils.get_feature_target(df_og)"
   ]
  },
  {
   "cell_type": "code",
   "execution_count": null,
   "id": "af36d1e4",
   "metadata": {},
   "outputs": [],
   "source": [
    "# and we then get our training and testing sets\n",
    "# we are going to get two sets of y labels, one for travel_time and another for fare_amount\n",
    "X_train, X_test, y_train_travel_time, y_test_travel_time, y_train_fare_amount, y_test_fare_amount = data_utils.get_train_test_sets(X, y_travel_time, y_fare_amount)"
   ]
  },
  {
   "cell_type": "code",
   "execution_count": null,
   "id": "25b575be",
   "metadata": {},
   "outputs": [],
   "source": [
    "# we can further split the training set into training and validation\n",
    "X_train, X_val, y_train_travel_time, y_val_travel_time, y_train_fare_amount, y_val_fare_amount = data_utils.get_train_test_sets(X_train, y_train_travel_time, y_train_fare_amount)"
   ]
  },
  {
   "cell_type": "code",
   "execution_count": null,
   "id": "ba6ead53",
   "metadata": {},
   "outputs": [],
   "source": [
    "# now using the training, validation, and testing sets we can preprocess our data\n",
    "X_train, X_val, X_test = preprocessing.preprocess_data(X_train, X_val, X_test)"
   ]
  },
  {
   "cell_type": "code",
   "execution_count": null,
   "id": "e8c29944",
   "metadata": {},
   "outputs": [],
   "source": [
    "column_names_order = ['PULocationID','DOLocationID','improvement_surcharge','congestion_surcharge','airport_fee','day','month','is_weekend','distance_between_zones','morning','afternoon','night']"
   ]
  },
  {
   "cell_type": "markdown",
   "id": "e0ea8b78",
   "metadata": {},
   "source": [
    "**Initial Results with no finetuning**"
   ]
  },
  {
   "cell_type": "code",
   "execution_count": null,
   "id": "f75bed3a",
   "metadata": {},
   "outputs": [],
   "source": [
    "from sklearn.linear_model import LinearRegression\n",
    "from sklearn.metrics import mean_squared_error, mean_absolute_error, root_mean_squared_error, r2_score"
   ]
  },
  {
   "cell_type": "code",
   "execution_count": null,
   "id": "ba5bdc81",
   "metadata": {},
   "outputs": [],
   "source": [
    "#FARE AMOUNT LINEAR REGRESSION\n",
    "fare_amount_logreg = LinearRegression()\n",
    "fare_amount_logreg.fit(X_train, y_train_fare_amount)"
   ]
  },
  {
   "cell_type": "code",
   "execution_count": null,
   "id": "26c1ee98",
   "metadata": {},
   "outputs": [],
   "source": [
    "preds_fare_logreg = fare_amount_logreg.predict(X_val)\n",
    "# measure the results\n",
    "mse = mean_squared_error(y_test_fare_amount, preds_fare_logreg)\n",
    "mae = mean_absolute_error(y_test_fare_amount, preds_fare_logreg)\n",
    "rmse = root_mean_squared_error(y_test_fare_amount, preds_fare_logreg)\n",
    "# agregar r2\n",
    "print(mse)\n",
    "print(mae)\n",
    "print(rmse)"
   ]
  },
  {
   "cell_type": "code",
   "execution_count": null,
   "id": "5d8073ea",
   "metadata": {},
   "outputs": [],
   "source": [
    "#TRAVEL TIME LINEAR REGRESSION\n",
    "travel_time_logreg = LinearRegression()\n",
    "travel_time_logreg.fit(X_train, y_train_travel_time)"
   ]
  },
  {
   "cell_type": "code",
   "execution_count": null,
   "id": "95e69a55",
   "metadata": {},
   "outputs": [],
   "source": [
    "preds_travel_logreg = travel_time_logreg.predict(X_test)\n",
    "# measure the results\n",
    "mse = mean_squared_error(y_test_travel_time, preds_travel_logreg)\n",
    "mae = mean_absolute_error(y_test_travel_time, preds_travel_logreg)\n",
    "rmse = root_mean_squared_error(y_test_travel_time, preds_travel_logreg)\n",
    "# agregar r2\n",
    "print(mse)\n",
    "print(mae)\n",
    "print(rmse)"
   ]
  }
 ],
 "metadata": {
  "language_info": {
   "name": "python"
  }
 },
 "nbformat": 4,
 "nbformat_minor": 5
}
